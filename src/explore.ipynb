{
    "cells": [
        {
            "cell_type": "markdown",
            "metadata": {},
            "source": [
                "# Explore here"
            ]
        },
        {
            "cell_type": "markdown",
            "metadata": {},
            "source": [
                "Setup And Dataset "
            ]
        },
        {
            "cell_type": "code",
            "execution_count": 3,
            "metadata": {},
            "outputs": [
                {
                    "name": "stdout",
                    "output_type": "stream",
                    "text": [
                        "Dataset loaded successfully!\n",
                        "Training samples: 120, Test samples: 30\n"
                    ]
                }
            ],
            "source": [
                "# Your code here\n",
                "\n",
                "from sklearn.datasets import load_iris\n",
                "from sklearn.linear_model import LogisticRegression\n",
                "from sklearn.model_selection import train_test_split\n",
                "import pickle\n",
                "# Load dataset\n",
                "iris = load_iris()\n",
                "X = iris.data  # Features: sepal length/width, petal length/width\n",
                "y = iris.target  # Target: flower species\n",
                "\n",
                "# Split data\n",
                "X_train, X_test, y_train, y_test = train_test_split(X, y, test_size=0.2, random_state=42)\n",
                "\n",
                "print(\"Dataset loaded successfully!\")\n",
                "print(f\"Training samples: {len(X_train)}, Test samples: {len(X_test)}\")"
            ]
        },
        {
            "cell_type": "markdown",
            "metadata": {},
            "source": [
                "Train and save model"
            ]
        },
        {
            "cell_type": "code",
            "execution_count": 4,
            "metadata": {},
            "outputs": [
                {
                    "name": "stdout",
                    "output_type": "stream",
                    "text": [
                        "Model accuracy: 1.00\n",
                        "Model saved as iris_model.pkl\n"
                    ]
                }
            ],
            "source": [
                "# Train model\n",
                "model = LogisticRegression(max_iter=200)\n",
                "model.fit(X_train, y_train)\n",
                "\n",
                "# Evaluate\n",
                "accuracy = model.score(X_test, y_test)\n",
                "print(f\"Model accuracy: {accuracy:.2f}\")\n",
                "\n",
                "# Save model\n",
                "with open('iris_model.pkl', 'wb') as f:\n",
                "    pickle.dump(model, f)\n",
                "    \n",
                "print(\"Model saved as iris_model.pkl\")"
            ]
        }
    ],
    "metadata": {
        "kernelspec": {
            "display_name": "Python 3",
            "language": "python",
            "name": "python3"
        },
        "language_info": {
            "codemirror_mode": {
                "name": "ipython",
                "version": 3
            },
            "file_extension": ".py",
            "mimetype": "text/x-python",
            "name": "python",
            "nbconvert_exporter": "python",
            "pygments_lexer": "ipython3",
            "version": "3.11.4"
        },
        "orig_nbformat": 4
    },
    "nbformat": 4,
    "nbformat_minor": 2
}
